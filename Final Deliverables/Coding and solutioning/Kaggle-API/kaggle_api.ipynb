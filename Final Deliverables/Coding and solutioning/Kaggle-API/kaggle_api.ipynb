{
  "nbformat": 4,
  "nbformat_minor": 0,
  "metadata": {
    "colab": {
      "provenance": []
    },
    "kernelspec": {
      "name": "python3",
      "display_name": "Python 3"
    },
    "language_info": {
      "name": "python"
    }
  },
  "cells": [
    {
      "cell_type": "code",
      "execution_count": 1,
      "metadata": {
        "id": "JxUUrNQ_dTjD"
      },
      "outputs": [],
      "source": [
        "!pip install -q kaggle"
      ]
    },
    {
      "cell_type": "code",
      "source": [
        "!mkdir ~/.kaggle #creating kaggle directory"
      ],
      "metadata": {
        "id": "HBn1UIq9dy73"
      },
      "execution_count": 2,
      "outputs": []
    },
    {
      "cell_type": "code",
      "source": [
        "!cp kaggle.json ~/.kaggle/ #copying json file to folder"
      ],
      "metadata": {
        "id": "vVYMAGC9d6S3"
      },
      "execution_count": 3,
      "outputs": []
    },
    {
      "cell_type": "code",
      "source": [
        "!kaggle datasets download -d abhiseklewan/crop-production-statistics-from-1997-in-india"
      ],
      "metadata": {
        "colab": {
          "base_uri": "https://localhost:8080/"
        },
        "id": "RHQbshySeDZg",
        "outputId": "b7dedeac-9c66-4abb-e5cf-b061bc4694a1"
      },
      "execution_count": 4,
      "outputs": [
        {
          "output_type": "stream",
          "name": "stdout",
          "text": [
            "Warning: Your Kaggle API key is readable by other users on this system! To fix this, you can run 'chmod 600 /root/.kaggle/kaggle.json'\n",
            "Downloading crop-production-statistics-from-1997-in-india.zip to /content\n",
            "  0% 0.00/1.96M [00:00<?, ?B/s]\n",
            "100% 1.96M/1.96M [00:00<00:00, 167MB/s]\n"
          ]
        }
      ]
    },
    {
      "cell_type": "code",
      "source": [
        "!unzip /content/crop-production-statistics-from-1997-in-india.zip"
      ],
      "metadata": {
        "colab": {
          "base_uri": "https://localhost:8080/"
        },
        "id": "w-5DSJGKeXyn",
        "outputId": "21c02e16-a72a-4935-b78b-648c8b15cc08"
      },
      "execution_count": 5,
      "outputs": [
        {
          "output_type": "stream",
          "name": "stdout",
          "text": [
            "Archive:  /content/crop-production-statistics-from-1997-in-india.zip\n",
            "  inflating: apy.csv                 \n"
          ]
        }
      ]
    }
  ]
}